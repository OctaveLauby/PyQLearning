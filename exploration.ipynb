{
 "cells": [
  {
   "cell_type": "markdown",
   "metadata": {},
   "source": [
    "# Q-Learning\n",
    "\n",
    "---\n",
    "\n",
    "\n",
    "## Introduction\n",
    "\n",
    "History of an **agent** is a sequence of ***experience = State, Action, Reward, New state***.\n",
    "\n",
    "We define **Q(s, a)** as the expected value (cumulative discounted reward) of doing a in state s and then following the optimal policy. \n",
    "\n",
    "\n",
    "\n",
    "## References\n",
    "\n",
    "- http://artint.info/html/ArtInt_262.html\n",
    "- http://artint.info/html/ArtInt_265.html"
   ]
  },
  {
   "cell_type": "markdown",
   "metadata": {},
   "source": [
    "## Tic Tac Toe"
   ]
  },
  {
   "cell_type": "code",
   "execution_count": 1,
   "metadata": {},
   "outputs": [],
   "source": [
    "from games.tictactoe import TTT"
   ]
  },
  {
   "cell_type": "code",
   "execution_count": 2,
   "metadata": {},
   "outputs": [
    {
     "name": "stdout",
     "output_type": "stream",
     "text": [
      "Game Over\n",
      "PlayerO wins !!!\n",
      "   | X | O \n",
      "---+---+---\n",
      " X | O | X \n",
      "---+---+---\n",
      " O |   |   \n"
     ]
    }
   ],
   "source": [
    "ttt = TTT()\n",
    "ttt.play(1, 0)\n",
    "ttt.play(2, 1)\n",
    "ttt.play(3, 0)\n",
    "ttt.play(4, 1)\n",
    "ttt.play(5, 0)\n",
    "ttt.play(6, 1)\n",
    "ttt.display()"
   ]
  },
  {
   "cell_type": "code",
   "execution_count": 5,
   "metadata": {},
   "outputs": [
    {
     "name": "stdout",
     "output_type": "stream",
     "text": [
      "Game Over\n",
      "PlayerX wins !!!\n"
     ]
    }
   ],
   "source": [
    "ttt = TTT()\n",
    "p1 = Player(\"X\")\n",
    "p2 = Player(\"O\")\n",
    "ttt.play(0, p1)\n",
    "ttt.play(1, p1)\n",
    "ttt.play(2, p1)"
   ]
  },
  {
   "cell_type": "code",
   "execution_count": 6,
   "metadata": {},
   "outputs": [
    {
     "name": "stdout",
     "output_type": "stream",
     "text": [
      "{PlayerX: [Position(0, 0), Position(1, 0), Position(2, 0)]}\n"
     ]
    }
   ],
   "source": [
    "ttt.display_history()"
   ]
  },
  {
   "cell_type": "markdown",
   "metadata": {},
   "source": [
    "---\n",
    "\n",
    "## Deep Q-Learning Agent"
   ]
  },
  {
   "cell_type": "code",
   "execution_count": 7,
   "metadata": {
    "collapsed": true
   },
   "outputs": [],
   "source": [
    "from qlearning.agent import Agent"
   ]
  },
  {
   "cell_type": "code",
   "execution_count": 8,
   "metadata": {},
   "outputs": [
    {
     "ename": "TypeError",
     "evalue": "__init__() missing 2 required positional arguments: 'states' and 'actions'",
     "output_type": "error",
     "traceback": [
      "\u001b[1;31m---------------------------------------------------------------------------\u001b[0m",
      "\u001b[1;31mTypeError\u001b[0m                                 Traceback (most recent call last)",
      "\u001b[1;32m<ipython-input-8-d6a1ece985d2>\u001b[0m in \u001b[0;36m<module>\u001b[1;34m()\u001b[0m\n\u001b[1;32m----> 1\u001b[1;33m \u001b[0ma1\u001b[0m \u001b[1;33m=\u001b[0m \u001b[0mAgent\u001b[0m\u001b[1;33m(\u001b[0m\u001b[1;33m)\u001b[0m\u001b[1;33m\u001b[0m\u001b[0m\n\u001b[0m\u001b[0;32m      2\u001b[0m \u001b[0ma2\u001b[0m \u001b[1;33m=\u001b[0m \u001b[0mAgent\u001b[0m\u001b[1;33m(\u001b[0m\u001b[1;33m)\u001b[0m\u001b[1;33m\u001b[0m\u001b[0m\n",
      "\u001b[1;31mTypeError\u001b[0m: __init__() missing 2 required positional arguments: 'states' and 'actions'"
     ]
    }
   ],
   "source": [
    "a1 = Agent()\n",
    "a2 = Agent()"
   ]
  },
  {
   "cell_type": "code",
   "execution_count": null,
   "metadata": {
    "collapsed": true
   },
   "outputs": [],
   "source": []
  }
 ],
 "metadata": {
  "kernelspec": {
   "display_name": "Python 3",
   "language": "python",
   "name": "python3"
  },
  "language_info": {
   "codemirror_mode": {
    "name": "ipython",
    "version": 3
   },
   "file_extension": ".py",
   "mimetype": "text/x-python",
   "name": "python",
   "nbconvert_exporter": "python",
   "pygments_lexer": "ipython3",
   "version": "3.5.3"
  }
 },
 "nbformat": 4,
 "nbformat_minor": 2
}
